{
 "cells": [
  {
   "cell_type": "markdown",
   "metadata": {},
   "source": [
    "# Dask"
   ]
  },
  {
   "cell_type": "markdown",
   "metadata": {},
   "source": [
    "## Configuration"
   ]
  },
  {
   "cell_type": "code",
   "execution_count": null,
   "metadata": {},
   "outputs": [],
   "source": [
    "# parallelization\n",
    "import joblib\n",
    "from dask.distributed import Client, LocalCluster\n",
    "# from dask_cloudprovider import FargateCluster\n",
    "\n",
    "# system libraries\n",
    "import timeit\n",
    "import multiprocessing\n",
    "\n",
    "# dataframe like pandas\n",
    "import numpy as np\n",
    "import dask.dataframe as dd\n",
    "\n",
    "# machine learning & plot\n",
    "from sklearn.datasets import load_digits\n",
    "from sklearn.model_selection import RandomizedSearchCV\n",
    "from sklearn.svm import SVC\n",
    "import matplotlib.pyplot as plt"
   ]
  },
  {
   "cell_type": "code",
   "execution_count": null,
   "metadata": {},
   "outputs": [],
   "source": [
    "# in_local = True\n",
    "memory_limit = '300MB'\n",
    "cv = 3\n",
    "n_iter = 50 #0\n",
    "verbose = 1 #10"
   ]
  },
  {
   "cell_type": "markdown",
   "metadata": {},
   "source": [
    "## Explore resources "
   ]
  },
  {
   "cell_type": "code",
   "execution_count": null,
   "metadata": {},
   "outputs": [],
   "source": [
    "digits = load_digits()\n",
    "print('data shape: ', digits.data.shape)\n",
    "print('target of id=0: ', digits.target[0])\n",
    "plt.gray()\n",
    "plt.matshow(digits.images[0])\n",
    "plt.show()\n",
    "print(digits.data[0].reshape(8,8))"
   ]
  },
  {
   "cell_type": "code",
   "execution_count": null,
   "metadata": {},
   "outputs": [],
   "source": [
    "multiprocessing.cpu_count()"
   ]
  },
  {
   "cell_type": "markdown",
   "metadata": {},
   "source": [
    "## Methods"
   ]
  },
  {
   "cell_type": "code",
   "execution_count": null,
   "metadata": {},
   "outputs": [],
   "source": [
    "def get_sample():\n",
    "    digits = load_digits()\n",
    "    return digits.data, digits.target\n",
    "\n",
    "def get_client():\n",
    "    try:\n",
    "        client = Client('tcp://127.0.0.1:8787', timeout='2s')\n",
    "    except OSError:\n",
    "        cluster = LocalCluster(n_workers=multiprocessing.cpu_count(), memory_limit=memory_limit, processes=True, scheduler_port=8787)\n",
    "        print('Cluster link: ', cluster.dashboard_link)\n",
    "        client = Client(cluster)\n",
    "    client.restart()\n",
    "    return client"
   ]
  },
  {
   "cell_type": "markdown",
   "metadata": {},
   "source": [
    "## Main"
   ]
  },
  {
   "cell_type": "code",
   "execution_count": null,
   "metadata": {},
   "outputs": [],
   "source": [
    "# manage dask cluster\n",
    "t_start = timeit.default_timer()\n",
    "client = get_client()\n",
    "t_client = timeit.default_timer() - t_start\n",
    "print('dask', t_client)\n",
    "\n",
    "client"
   ]
  },
  {
   "cell_type": "code",
   "execution_count": null,
   "metadata": {},
   "outputs": [],
   "source": [
    "# load data\n",
    "t_start = timeit.default_timer()\n",
    "data, target = get_sample()\n",
    "t_load = timeit.default_timer() - t_start\n",
    "print('load', t_load)"
   ]
  },
  {
   "cell_type": "code",
   "execution_count": null,
   "metadata": {},
   "outputs": [],
   "source": [
    "# initialize model\n",
    "t_start = timeit.default_timer()\n",
    "param_space = {\n",
    "    'C': np.logspace(-6, 6, 13),\n",
    "    'gamma': np.logspace(-8, 8, 17),\n",
    "    'tol': np.logspace(-4, -1, 4),\n",
    "    'class_weight': [None, 'balanced'],\n",
    "}\n",
    "model = SVC(kernel='rbf')\n",
    "search = RandomizedSearchCV(model, param_space, cv=cv, n_iter=n_iter, verbose=verbose)\n",
    "t_conf = timeit.default_timer() - t_start\n",
    "print('conf', t_conf)"
   ]
  },
  {
   "cell_type": "code",
   "execution_count": null,
   "metadata": {},
   "outputs": [],
   "source": [
    "# parallelization of SearchCV\n",
    "t_start = timeit.default_timer()\n",
    "# with joblib.parallel_backend('dask', scatter=[data, target]):\n",
    "with joblib.parallel_backend('dask', n_jobs=multiprocessing.cpu_count(), scatter=[data, target]):\n",
    "    search.fit(data, target)\n",
    "t_fit = timeit.default_timer() - t_start\n",
    "print('fit', t_fit)"
   ]
  },
  {
   "cell_type": "code",
   "execution_count": null,
   "metadata": {},
   "outputs": [],
   "source": [
    "client.shutdown()"
   ]
  }
 ],
 "metadata": {
  "kernelspec": {
   "display_name": ".env",
   "language": "python",
   "name": "python3"
  },
  "language_info": {
   "codemirror_mode": {
    "name": "ipython",
    "version": 3
   },
   "file_extension": ".py",
   "mimetype": "text/x-python",
   "name": "python",
   "nbconvert_exporter": "python",
   "pygments_lexer": "ipython3",
   "version": "3.10.13"
  }
 },
 "nbformat": 4,
 "nbformat_minor": 2
}
